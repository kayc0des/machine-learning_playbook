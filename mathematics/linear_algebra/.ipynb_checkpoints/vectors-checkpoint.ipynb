{
 "cells": [
  {
   "cell_type": "markdown",
   "metadata": {},
   "source": [
    "There are atleast three definitions of the word vector. \n",
    "\n",
    "Physics = An object with magnitude and direction or an arrow pointing in space.\n",
    "Computer Science = An array or list of numbers\n",
    "Mathematics = An object whose elements could be added togther or scaled by a scalar to produce another object of the same kind."
   ]
  },
  {
   "cell_type": "code",
   "execution_count": null,
   "metadata": {
    "vscode": {
     "languageId": "plaintext"
    }
   },
   "outputs": [],
   "source": [
    "import numpy as np \n",
    "\n",
    "vector_a = np.array([2, 3])\n",
    "print(type(vector_a))"
   ]
  }
 ],
 "metadata": {
  "language_info": {
   "name": "python"
  }
 },
 "nbformat": 4,
 "nbformat_minor": 2
}
