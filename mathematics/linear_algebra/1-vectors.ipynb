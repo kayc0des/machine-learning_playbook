{
 "cells": [
  {
   "cell_type": "markdown",
   "metadata": {},
   "source": [
    "There are atleast three definitions of the word vector. \n",
    "\n",
    "Physics = An object with magnitude and direction or an arrow pointing in space.\n",
    "Computer Science = An array or list of numbers\n",
    "Mathematics = An object whose elements could be added togther or scaled by a scalar to produce another object of the same kind."
   ]
  },
  {
   "cell_type": "code",
   "execution_count": 1,
   "metadata": {},
   "outputs": [],
   "source": [
    "import numpy as np \n",
    "import matplotlib.pyplot as plt"
   ]
  },
  {
   "cell_type": "code",
   "execution_count": 6,
   "metadata": {},
   "outputs": [
    {
     "name": "stdout",
     "output_type": "stream",
     "text": [
      "<class 'numpy.ndarray'>\n",
      "[2 3] is a 1-dimensional array\n"
     ]
    }
   ],
   "source": [
    "vector_a = np.array([2, 3])\n",
    "# vectors are one-dimensional (1D) arrays \n",
    "\n",
    "print(type(vector_a))\n",
    "print(f\"{vector_a} is a {vector_a.ndim}-dimensional array\")"
   ]
  },
  {
   "cell_type": "markdown",
   "metadata": {},
   "source": [
    "Adding and multiplying two vectors"
   ]
  },
  {
   "cell_type": "code",
   "execution_count": 4,
   "metadata": {},
   "outputs": [
    {
     "name": "stdout",
     "output_type": "stream",
     "text": [
      "Sum of [2 3] + [ 1 -3] = [3 0]\n",
      "Product of [2 3] * [ 1 -3] = -7\n"
     ]
    }
   ],
   "source": [
    "vector_b = np.array([1, -3])\n",
    "vector_sum = vector_a + vector_b\n",
    "\n",
    "print(f\"Sum of {vector_a} + {vector_b} = {vector_sum}\")\n",
    "\n",
    "vector_product = vector_a @ vector_b\n",
    "\n",
    "print(f\"Product of {vector_a} * {vector_b} = {vector_product}\")\n"
   ]
  }
 ],
 "metadata": {
  "kernelspec": {
   "display_name": "Python 3 (ipykernel)",
   "language": "python",
   "name": "python3"
  },
  "language_info": {
   "codemirror_mode": {
    "name": "ipython",
    "version": 3
   },
   "file_extension": ".py",
   "mimetype": "text/x-python",
   "name": "python",
   "nbconvert_exporter": "python",
   "pygments_lexer": "ipython3",
   "version": "3.11.3"
  }
 },
 "nbformat": 4,
 "nbformat_minor": 4
}
