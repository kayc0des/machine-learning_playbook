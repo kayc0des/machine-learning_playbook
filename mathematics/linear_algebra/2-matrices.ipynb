{
 "cells": [
  {
   "cell_type": "markdown",
   "metadata": {},
   "source": [
    "Matrices have a good number of use-cases, but one stand out use case is using matrices to represent linear transformations. A linear transformation is function that takes in an input and produces an output however is is called a linear trasnformation and not a linear function because this transformation denotes movement. A linear transformation is a trransformation in which grid lines are evenly spaced and remain parallel to each other and the origin doesn't change. Thus there is no curvature in linear transformations."
   ]
  },
  {
   "cell_type": "code",
   "execution_count": 1,
   "metadata": {},
   "outputs": [],
   "source": [
    "import numpy as np"
   ]
  },
  {
   "cell_type": "code",
   "execution_count": 3,
   "metadata": {},
   "outputs": [
    {
     "name": "stdout",
     "output_type": "stream",
     "text": [
      "(2, 2)\n",
      "2\n"
     ]
    }
   ],
   "source": [
    "arr1 = np.array([[2, 4],\n",
    "                 [3, 1]])\n",
    "\n",
    "print(arr1.shape)\n",
    "print(arr1.ndim)"
   ]
  },
  {
   "cell_type": "code",
   "execution_count": 8,
   "metadata": {},
   "outputs": [
    {
     "name": "stdout",
     "output_type": "stream",
     "text": [
      "The resulting vector when a shear is applied to vector [2 4] is: [2 6]\n"
     ]
    }
   ],
   "source": [
    "# Shear - transformation in which the unit vector in the x-direction remains fixed while the unit vector in the y direction moves 45% clockwise\n",
    "\n",
    "shear = np.array([[1, 1],\n",
    "                  [0, 1]])\n",
    "\n",
    "# what happens to a vector with co-ordinates (2, 4) when a shear is applied?\n",
    "vector = np.array([2, 4])\n",
    "\n",
    "# applying a linear transformation to this simply means 2(i-hat) + 4(j-hat), i and j representing the coordinates of where i and j lands\n",
    "\n",
    "result = shear @ vector\n",
    "print(f\"The resulting vector when a shear is applied to vector {vector} is: {result}\")"
   ]
  }
 ],
 "metadata": {
  "kernelspec": {
   "display_name": "Python 3 (ipykernel)",
   "language": "python",
   "name": "python3"
  },
  "language_info": {
   "codemirror_mode": {
    "name": "ipython",
    "version": 3
   },
   "file_extension": ".py",
   "mimetype": "text/x-python",
   "name": "python",
   "nbconvert_exporter": "python",
   "pygments_lexer": "ipython3",
   "version": "3.11.3"
  }
 },
 "nbformat": 4,
 "nbformat_minor": 2
}
